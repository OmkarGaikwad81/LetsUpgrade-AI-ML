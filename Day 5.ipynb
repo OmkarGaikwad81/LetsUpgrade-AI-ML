{
 "cells": [
  {
   "cell_type": "code",
   "execution_count": 27,
   "metadata": {},
   "outputs": [],
   "source": []
  },
  {
   "cell_type": "code",
   "execution_count": 3,
   "metadata": {},
   "outputs": [
    {
     "name": "stdout",
     "output_type": "stream",
     "text": [
      "3\n",
      "5\n",
      "7\n",
      "11\n",
      "13\n",
      "17\n",
      "19\n",
      "23\n",
      "29\n",
      "31\n",
      "37\n",
      "41\n",
      "43\n",
      "47\n",
      "53\n",
      "59\n",
      "61\n",
      "67\n",
      "71\n",
      "73\n",
      "79\n",
      "83\n",
      "89\n",
      "97\n"
     ]
    }
   ],
   "source": [
    "count = 0\n",
    "while count <20:\n",
    "    for num in range(3,100+1):\n",
    "        if num > 1:\n",
    "            for i in range(2,num):\n",
    "                if (num % i) == 0:\n",
    "                    break\n",
    "            else:\n",
    "                print(num)\n",
    "                count = count+1\n",
    "    \n",
    "\n"
   ]
  },
  {
   "cell_type": "code",
   "execution_count": null,
   "metadata": {},
   "outputs": [],
   "source": []
  },
  {
   "cell_type": "code",
   "execution_count": null,
   "metadata": {},
   "outputs": [],
   "source": []
  },
  {
   "cell_type": "code",
   "execution_count": 14,
   "metadata": {},
   "outputs": [
    {
     "name": "stdout",
     "output_type": "stream",
     "text": [
      "Omkar gaikwad\n",
      "omkar gaikwad\n",
      "3\n",
      "3\n",
      "False\n",
      "False\n",
      "False\n",
      "False\n",
      "False\n",
      "False\n",
      "oMKAR gAIKWAD\n",
      "kar\n",
      "kar Gaikwad\n",
      "Omkar Gaikwad\n",
      "Omkar Gaik\n",
      "aikwa\n",
      "OkrGiwd\n",
      "dawkiaG rakmO\n",
      "omkar gaikwad\n",
      "OMKAR GAIKWAD\n",
      "['Omkar', 'Gaikwad']\n"
     ]
    }
   ],
   "source": [
    "# operation on string:\n",
    "\n",
    "\n",
    "str1 = \"Omkar Gaikwad\"\n",
    "\n",
    "print(str1.capitalize())\n",
    "print(str1.casefold())\n",
    "print(str1.count('a'))\n",
    "print(str1.find('a'))\n",
    "print(str1.isalnum())\n",
    "print(str1.isalpha())\n",
    "print(str1.isdigit())\n",
    "print(str1.islower())\n",
    "print(str1.isupper())\n",
    "print(str1.isspace())\n",
    "print(str1.swapcase())\n",
    "print(str1[2:5])\n",
    "print(str1[2:])\n",
    "print(str1[:])\n",
    "print(str1[:10])\n",
    "print(str1[-6:-1])\n",
    "print(str1[::2])\n",
    "print(str1[::-1])\n",
    "print(str1.lower())\n",
    "print(str1.upper())\n",
    "print(str1.split(\" \"))\n",
    "      \n",
    "      \n",
    "      \n",
    "      \n",
    "      \n",
    "      \n",
    "      "
   ]
  },
  {
   "cell_type": "code",
   "execution_count": 11,
   "metadata": {},
   "outputs": [
    {
     "name": "stdout",
     "output_type": "stream",
     "text": [
      "oMKAR\n"
     ]
    }
   ],
   "source": []
  },
  {
   "cell_type": "code",
   "execution_count": null,
   "metadata": {},
   "outputs": [],
   "source": [
    "\n",
    "\n"
   ]
  },
  {
   "cell_type": "code",
   "execution_count": 1,
   "metadata": {},
   "outputs": [
    {
     "name": "stdout",
     "output_type": "stream",
     "text": [
      "enter a Stringomkar\n",
      "enter another stringmokar\n",
      "Given string is Anagram\n"
     ]
    }
   ],
   "source": [
    "def isPal(s):\n",
    "    rev = s[::-1]\n",
    "    if s == rev:\n",
    "        print(\"Given String is pallindrome..!!\")\n",
    "    else :\n",
    "        s1 =input(\"enter another string  :  \")\n",
    "        isAnagram(s,s1)\n",
    "            \n",
    "def isAnagram(a,b):\n",
    "    if sorted(a) == sorted(a):\n",
    "        print(\"  Given string is *Anagram  !!\")\n",
    "    else:\n",
    "        print(\"  Given string is Not pallindrom nor Anagram\")\n",
    "s=input(\"enter a String  :  \")    \n",
    "isPal(s)"
   ]
  },
  {
   "cell_type": "code",
   "execution_count": null,
   "metadata": {},
   "outputs": [],
   "source": []
  },
  {
   "cell_type": "code",
   "execution_count": 2,
   "metadata": {},
   "outputs": [
    {
     "name": "stdout",
     "output_type": "stream",
     "text": [
      "enter any string : Omkar@I'm_12214\n",
      "omkarim\n"
     ]
    }
   ],
   "source": [
    "pure = \"\"\n",
    "string = input(\"enter any string : \")\n",
    "for i in string:\n",
    "    if i.isalpha():\n",
    "        pure=pure+i\n",
    "        \n",
    "print(pure.lower())\n",
    "  "
   ]
  },
  {
   "cell_type": "code",
   "execution_count": null,
   "metadata": {},
   "outputs": [],
   "source": []
  }
 ],
 "metadata": {
  "kernelspec": {
   "display_name": "Python 3",
   "language": "python",
   "name": "python3"
  },
  "language_info": {
   "codemirror_mode": {
    "name": "ipython",
    "version": 3
   },
   "file_extension": ".py",
   "mimetype": "text/x-python",
   "name": "python",
   "nbconvert_exporter": "python",
   "pygments_lexer": "ipython3",
   "version": "3.7.7"
  }
 },
 "nbformat": 4,
 "nbformat_minor": 4
}
