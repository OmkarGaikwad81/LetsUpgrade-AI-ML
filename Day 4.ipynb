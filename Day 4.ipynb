{
 "cells": [
  {
   "cell_type": "code",
   "execution_count": null,
   "metadata": {},
   "outputs": [],
   "source": []
  },
  {
   "cell_type": "code",
   "execution_count": 1,
   "metadata": {},
   "outputs": [
    {
     "data": {
      "text/plain": [
       "(8+11j)"
      ]
     },
     "execution_count": 1,
     "metadata": {},
     "output_type": "execute_result"
    }
   ],
   "source": [
    "# hence addition can be done\n",
    "add = (5+9j)+(3+2j)\n",
    "add"
   ]
  },
  {
   "cell_type": "code",
   "execution_count": 2,
   "metadata": {},
   "outputs": [
    {
     "data": {
      "text/plain": [
       "(2+7j)"
      ]
     },
     "execution_count": 2,
     "metadata": {},
     "output_type": "execute_result"
    }
   ],
   "source": [
    "# sub can also be done\n",
    "sub = (5+9j)-(3+2j)\n",
    "sub"
   ]
  },
  {
   "cell_type": "code",
   "execution_count": 4,
   "metadata": {},
   "outputs": [
    {
     "data": {
      "text/plain": [
       "(33+17j)"
      ]
     },
     "execution_count": 4,
     "metadata": {},
     "output_type": "execute_result"
    }
   ],
   "source": [
    "multi = (5+9j)*(3-2j)\n",
    "multi"
   ]
  },
  {
   "cell_type": "code",
   "execution_count": 6,
   "metadata": {},
   "outputs": [
    {
     "data": {
      "text/plain": [
       "(1+4j)"
      ]
     },
     "execution_count": 6,
     "metadata": {},
     "output_type": "execute_result"
    }
   ],
   "source": [
    "div =  (15+9j)/(3-3j)\n",
    "div"
   ]
  },
  {
   "cell_type": "code",
   "execution_count": null,
   "metadata": {},
   "outputs": [],
   "source": []
  },
  {
   "cell_type": "markdown",
   "metadata": {},
   "source": [
    "# Range"
   ]
  },
  {
   "cell_type": "code",
   "execution_count": 13,
   "metadata": {},
   "outputs": [
    {
     "name": "stdout",
     "output_type": "stream",
     "text": [
      "0\n",
      "1\n",
      "2\n",
      "3\n",
      "4\n",
      "5\n",
      "6\n",
      "7\n",
      "8\n"
     ]
    }
   ],
   "source": [
    "# range function can take 3 parameters, In which 2  are optional\n",
    "#range(Start,Stop,step)     where Start and stop are Optional\n",
    "\n",
    "# range with 1 parameter i.e stop\n",
    "\n",
    "\n",
    "for i in range(9):\n",
    "    print(i)\n"
   ]
  },
  {
   "cell_type": "code",
   "execution_count": 7,
   "metadata": {},
   "outputs": [
    {
     "data": {
      "text/plain": [
       "[1, 2, 3, 4, 5, 6, 7, 8, 9]"
      ]
     },
     "execution_count": 7,
     "metadata": {},
     "output_type": "execute_result"
    }
   ],
   "source": [
    "\n",
    "\n",
    "# with 2 parameters \n",
    "\n",
    "l = list(range(1,10))\n",
    "l\n",
    "\n",
    "# it prints list with elements from 1 to 9"
   ]
  },
  {
   "cell_type": "code",
   "execution_count": 10,
   "metadata": {},
   "outputs": [
    {
     "data": {
      "text/plain": [
       "[0, 5, 10, 15, 20, 25, 30, 35, 40, 45, 50, 55, 60, 65, 70, 75, 80, 85, 90, 95]"
      ]
     },
     "execution_count": 10,
     "metadata": {},
     "output_type": "execute_result"
    }
   ],
   "source": [
    "# with 3 parameters \n",
    "\n",
    "l = list(range(0,100,5))\n",
    "l"
   ]
  },
  {
   "cell_type": "code",
   "execution_count": null,
   "metadata": {},
   "outputs": [],
   "source": []
  },
  {
   "cell_type": "code",
   "execution_count": null,
   "metadata": {},
   "outputs": [],
   "source": []
  },
  {
   "cell_type": "markdown",
   "metadata": {},
   "source": [
    "# Ques 3"
   ]
  },
  {
   "cell_type": "code",
   "execution_count": null,
   "metadata": {},
   "outputs": [],
   "source": []
  },
  {
   "cell_type": "code",
   "execution_count": 16,
   "metadata": {},
   "outputs": [
    {
     "name": "stdout",
     "output_type": "stream",
     "text": [
      "subtraction is 40\n",
      "so multiplication of  50 * 90 is 4500\n"
     ]
    }
   ],
   "source": [
    "a = 50\n",
    "b = 90\n",
    "sub = b-a\n",
    "print(\"subtraction is\",sub)\n",
    "if sub > 25:\n",
    "    print(\"so multiplication of \",a,\"*\",b ,\"is =\",a*b)\n",
    "else:\n",
    "    print(\"so division of \",a,\"/\",b ,\"is\",b/a)"
   ]
  },
  {
   "cell_type": "code",
   "execution_count": null,
   "metadata": {},
   "outputs": [],
   "source": []
  },
  {
   "cell_type": "markdown",
   "metadata": {},
   "source": [
    "# Ques 4"
   ]
  },
  {
   "cell_type": "code",
   "execution_count": 24,
   "metadata": {},
   "outputs": [
    {
     "name": "stdout",
     "output_type": "stream",
     "text": [
      "enter 10 numbers\n",
      "34\n",
      "54\n",
      "23\n",
      "56\n",
      "12\n",
      "67\n",
      "45\n",
      "78\n",
      "43\n",
      "23\n",
      "even number 34 anser is : 1154\n",
      "even number 54 anser is : 2914\n",
      "even number 56 anser is : 3134\n",
      "even number 12 anser is : 142\n",
      "even number 78 anser is : 6082\n"
     ]
    }
   ],
   "source": [
    "lst =[]\n",
    "print(\"enter 10 numbers\")\n",
    "for i in range(10):\n",
    "    ele = int(input())\n",
    "    lst.append(ele)\n",
    "lst\n",
    "for i in lst:\n",
    "    if i%2==0:\n",
    "        print(\"even number\",i,\"anser is :\",(i*i)-2)\n"
   ]
  },
  {
   "cell_type": "markdown",
   "metadata": {},
   "source": []
  },
  {
   "cell_type": "code",
   "execution_count": null,
   "metadata": {},
   "outputs": [],
   "source": []
  },
  {
   "cell_type": "code",
   "execution_count": 27,
   "metadata": {},
   "outputs": [
    {
     "name": "stdout",
     "output_type": "stream",
     "text": [
      "Half of  34 is 17.0 that is greater than 7\n",
      "Half of  16 is 8.0 that is greater than 7\n",
      "Half of  114 is 57.0 that is greater than 7\n",
      "Half of  15 is 7.5 that is greater than 7\n"
     ]
    }
   ],
   "source": [
    "lst1 = [34,8,16,114,12,9,7,13,15,11]\n",
    "for i in lst1:\n",
    "    half = i/2\n",
    "    if half > 7:\n",
    "        print(\"Half of \",i,\"is\",half,\"that is greater than 7\")\n"
   ]
  },
  {
   "cell_type": "code",
   "execution_count": null,
   "metadata": {},
   "outputs": [],
   "source": []
  }
 ],
 "metadata": {
  "kernelspec": {
   "display_name": "Python 3",
   "language": "python",
   "name": "python3"
  },
  "language_info": {
   "codemirror_mode": {
    "name": "ipython",
    "version": 3
   },
   "file_extension": ".py",
   "mimetype": "text/x-python",
   "name": "python",
   "nbconvert_exporter": "python",
   "pygments_lexer": "ipython3",
   "version": "3.7.7"
  }
 },
 "nbformat": 4,
 "nbformat_minor": 4
}
