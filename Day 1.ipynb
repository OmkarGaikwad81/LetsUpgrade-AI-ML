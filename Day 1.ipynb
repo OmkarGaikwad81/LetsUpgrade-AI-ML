{
 "cells": [
  {
   "cell_type": "code",
   "execution_count": 2,
   "metadata": {},
   "outputs": [
    {
     "name": "stdout",
     "output_type": "stream",
     "text": [
      "(3+2j)\n"
     ]
    }
   ],
   "source": [
    "# ques 1\n",
    "a= 5+7j\n",
    "b = 8+9j\n",
    "print(b-a)\n"
   ]
  },
  {
   "cell_type": "code",
   "execution_count": 3,
   "metadata": {},
   "outputs": [
    {
     "name": "stdout",
     "output_type": "stream",
     "text": [
      "Enter any number5\n",
      "The fourth root of 5 is 625\n"
     ]
    }
   ],
   "source": [
    "# ques 2\n",
    "\n",
    "num = int(input(\"Enter any number\"))\n",
    "\n",
    "fourth_root= num**4\n",
    "\n",
    "print(\"The fourth root of\", num , \"is\",fourth_root)"
   ]
  },
  {
   "cell_type": "code",
   "execution_count": 1,
   "metadata": {},
   "outputs": [
    {
     "name": "stdout",
     "output_type": "stream",
     "text": [
      "Before swapping a = 5 b=  9\n",
      "After swapping a = 9 b=  5\n"
     ]
    }
   ],
   "source": [
    "# ques 3\n",
    "\n",
    "# swap ywo numbers with the help of 3rd variable\n",
    "\n",
    "a = 5\n",
    "b = 9\n",
    "print(\"Before swapping a =\",a,\"b= \",b)\n",
    "\n",
    "temp = a\n",
    "a = b\n",
    "b = temp\n",
    "\n",
    "print(\"After swapping a =\",a,\"b= \",b)"
   ]
  },
  {
   "cell_type": "code",
   "execution_count": 14,
   "metadata": {},
   "outputs": [
    {
     "name": "stdout",
     "output_type": "stream",
     "text": [
      "Before swapping: \n",
      "Value of x :  10  and y :  30\n",
      "After swapping: \n",
      "Value of x :  30  and y :  10\n"
     ]
    }
   ],
   "source": [
    "# ques 4\n",
    "\n",
    "# swap ywo numbers with-out the help of 3rd variable\n",
    "\n",
    "x = 10\n",
    "y = 30\n",
    "  \n",
    "print (\"Before swapping: \") \n",
    "print(\"Value of x : \", x, \" and y : \", y) \n",
    "   \n",
    "x = x + y  \n",
    "y = x - y  \n",
    "x = x - y  \n",
    "  \n",
    "print (\"After swapping: \") \n",
    "print(\"Value of x : \", x, \" and y : \", y) "
   ]
  },
  {
   "cell_type": "code",
   "execution_count": 5,
   "metadata": {},
   "outputs": [
    {
     "name": "stdout",
     "output_type": "stream",
     "text": [
      "Before swapping a = 10 b=  20\n",
      "After swapping a = 20 b=  10\n"
     ]
    }
   ],
   "source": [
    "\n",
    "a = 10\n",
    "b = 20\n",
    "print(\"Before swapping a =\",a,\"b= \",b)\n",
    "\n",
    "a,b = b,a \n",
    "print(\"After swapping a =\",a,\"b= \",b)"
   ]
  },
  {
   "cell_type": "code",
   "execution_count": 21,
   "metadata": {},
   "outputs": [
    {
     "name": "stdout",
     "output_type": "stream",
     "text": [
      "x= 70 y= 50\n"
     ]
    }
   ],
   "source": [
    "x = 50\n",
    "y =70\n",
    "\n",
    "x = x + y  \n",
    "y = x - y  \n",
    "x = x - y  \n",
    "print(\"x=\",x,\"y=\",y)"
   ]
  },
  {
   "cell_type": "code",
   "execution_count": null,
   "metadata": {},
   "outputs": [],
   "source": []
  },
  {
   "cell_type": "code",
   "execution_count": 23,
   "metadata": {},
   "outputs": [
    {
     "name": "stdout",
     "output_type": "stream",
     "text": [
      " 50 fehrenheit = 12796.4 kelvin and  -861.11 celsius\n"
     ]
    }
   ],
   "source": [
    "# ques 5\n",
    "\n",
    "\n",
    "fer = 50\n",
    "\n",
    "kelv = fer * 255.928\n",
    "\n",
    "celsi = fer * (-17.2222)\n",
    "\n",
    "print(\" 50 fehrenheit =\",kelv,\"kelvin and \",celsi,\"celsius\")"
   ]
  },
  {
   "cell_type": "code",
   "execution_count": null,
   "metadata": {},
   "outputs": [],
   "source": []
  },
  {
   "cell_type": "markdown",
   "metadata": {},
   "source": [
    "# Datatypes "
   ]
  },
  {
   "cell_type": "code",
   "execution_count": 24,
   "metadata": {},
   "outputs": [
    {
     "data": {
      "text/plain": [
       "int"
      ]
     },
     "execution_count": 24,
     "metadata": {},
     "output_type": "execute_result"
    }
   ],
   "source": [
    "type(1881)"
   ]
  },
  {
   "cell_type": "code",
   "execution_count": 25,
   "metadata": {},
   "outputs": [
    {
     "data": {
      "text/plain": [
       "float"
      ]
     },
     "execution_count": 25,
     "metadata": {},
     "output_type": "execute_result"
    }
   ],
   "source": [
    "type(1.8)"
   ]
  },
  {
   "cell_type": "code",
   "execution_count": 26,
   "metadata": {},
   "outputs": [
    {
     "data": {
      "text/plain": [
       "complex"
      ]
     },
     "execution_count": 26,
     "metadata": {},
     "output_type": "execute_result"
    }
   ],
   "source": [
    "type(1+8j)"
   ]
  },
  {
   "cell_type": "code",
   "execution_count": 27,
   "metadata": {},
   "outputs": [
    {
     "data": {
      "text/plain": [
       "str"
      ]
     },
     "execution_count": 27,
     "metadata": {},
     "output_type": "execute_result"
    }
   ],
   "source": [
    "type(\"Omkar\")"
   ]
  },
  {
   "cell_type": "code",
   "execution_count": 28,
   "metadata": {},
   "outputs": [
    {
     "data": {
      "text/plain": [
       "list"
      ]
     },
     "execution_count": 28,
     "metadata": {},
     "output_type": "execute_result"
    }
   ],
   "source": [
    "type([1,4,2,43,\"hii\"])"
   ]
  },
  {
   "cell_type": "code",
   "execution_count": 29,
   "metadata": {},
   "outputs": [
    {
     "data": {
      "text/plain": [
       "tuple"
      ]
     },
     "execution_count": 29,
     "metadata": {},
     "output_type": "execute_result"
    }
   ],
   "source": [
    "type((29,37,\"hello \",\"how are you?\"))"
   ]
  },
  {
   "cell_type": "code",
   "execution_count": 31,
   "metadata": {},
   "outputs": [
    {
     "data": {
      "text/plain": [
       "dict"
      ]
     },
     "execution_count": 31,
     "metadata": {},
     "output_type": "execute_result"
    }
   ],
   "source": [
    "type({\"hey\":1,\"how it's going\":\"marks\",\"outoff\":100})"
   ]
  },
  {
   "cell_type": "code",
   "execution_count": null,
   "metadata": {},
   "outputs": [],
   "source": []
  },
  {
   "cell_type": "code",
   "execution_count": null,
   "metadata": {},
   "outputs": [],
   "source": []
  },
  {
   "cell_type": "markdown",
   "metadata": {},
   "source": [
    "# Github Acc\n",
    "\n",
    "Create a Github public repo and name it LetsUpgrade AI/ML\n",
    "Upload the files/solution in the repo in day wise manner.\n",
    "Copy the URL of the Folder of that day and paste in the Assignment Submission Form (Google Form)\n",
    "Make sure you are filling correct details in the Assignment Submission Form."
   ]
  },
  {
   "cell_type": "code",
   "execution_count": null,
   "metadata": {},
   "outputs": [],
   "source": []
  }
 ],
 "metadata": {
  "kernelspec": {
   "display_name": "Python 3",
   "language": "python",
   "name": "python3"
  },
  "language_info": {
   "codemirror_mode": {
    "name": "ipython",
    "version": 3
   },
   "file_extension": ".py",
   "mimetype": "text/x-python",
   "name": "python",
   "nbconvert_exporter": "python",
   "pygments_lexer": "ipython3",
   "version": "3.7.7"
  }
 },
 "nbformat": 4,
 "nbformat_minor": 4
}
